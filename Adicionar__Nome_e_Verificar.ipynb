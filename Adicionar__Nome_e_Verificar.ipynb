{
  "nbformat": 4,
  "nbformat_minor": 0,
  "metadata": {
    "colab": {
      "provenance": [],
      "authorship_tag": "ABX9TyPdwriSE9eJyVMZE+p83cKd",
      "include_colab_link": true
    },
    "kernelspec": {
      "name": "python3",
      "display_name": "Python 3"
    },
    "language_info": {
      "name": "python"
    }
  },
  "cells": [
    {
      "cell_type": "markdown",
      "metadata": {
        "id": "view-in-github",
        "colab_type": "text"
      },
      "source": [
        "<a href=\"https://colab.research.google.com/github/PedroQueiroga9/Exercicios-De-Programacao/blob/main/Adicionar__Nome_e_Verificar.ipynb\" target=\"_parent\"><img src=\"https://colab.research.google.com/assets/colab-badge.svg\" alt=\"Open In Colab\"/></a>"
      ]
    },
    {
      "cell_type": "code",
      "execution_count": 3,
      "metadata": {
        "colab": {
          "base_uri": "https://localhost:8080/"
        },
        "id": "fktay_qw8Y5d",
        "outputId": "19c10f86-9f83-4dd2-f09f-6529dc33f478"
      },
      "outputs": [
        {
          "output_type": "execute_result",
          "data": {
            "text/plain": [
              "6"
            ]
          },
          "metadata": {},
          "execution_count": 3
        }
      ],
      "source": [
        "num = [1, 2, 3, 4, 5, 6]\n",
        "len(num)\n",
        "\n",
        "  \n"
      ]
    },
    {
      "cell_type": "code",
      "source": [
        "num[0]"
      ],
      "metadata": {
        "colab": {
          "base_uri": "https://localhost:8080/"
        },
        "id": "mFCL8hmhBqsC",
        "outputId": "c6935c38-d794-4249-e274-9daa20f91eaf"
      },
      "execution_count": 4,
      "outputs": [
        {
          "output_type": "execute_result",
          "data": {
            "text/plain": [
              "1"
            ]
          },
          "metadata": {},
          "execution_count": 4
        }
      ]
    },
    {
      "cell_type": "code",
      "source": [
        "#listas de alunos\n",
        "alunos = ['Pedro', 'Samuel', 'Micael','Luiza', 'Joao','Lucas']\n",
        "nome =(input(str('Digite o nome que deseja: ')))\n",
        "\n",
        "if nome in alunos:\n",
        "      (print(\"Seu nome está na lista\"))\n",
        "\n",
        "else: \n",
        "  print(\"Seu nome foi adicionado com sucesso \")\n",
        "\n",
        "\n",
        "\n"
      ],
      "metadata": {
        "colab": {
          "base_uri": "https://localhost:8080/"
        },
        "id": "utkCOsX5DQhZ",
        "outputId": "4643c290-54cf-4df6-fbea-a024a1423ed5"
      },
      "execution_count": 21,
      "outputs": [
        {
          "output_type": "stream",
          "name": "stdout",
          "text": [
            "Digite o nome que deseja: Paulo\n",
            "Seu nome foi adicionado com sucesso \n"
          ]
        }
      ]
    },
    {
      "cell_type": "code",
      "source": [],
      "metadata": {
        "id": "0tPMJ0nnE0yw"
      },
      "execution_count": 17,
      "outputs": []
    },
    {
      "cell_type": "code",
      "source": [],
      "metadata": {
        "id": "E_ekyOZvFRst"
      },
      "execution_count": 17,
      "outputs": []
    }
  ]
}