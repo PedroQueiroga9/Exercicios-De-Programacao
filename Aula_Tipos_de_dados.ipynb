{
  "nbformat": 4,
  "nbformat_minor": 0,
  "metadata": {
    "colab": {
      "provenance": [],
      "authorship_tag": "ABX9TyMMwOLCBDOwWlrtul3aPFu7",
      "include_colab_link": true
    },
    "kernelspec": {
      "name": "python3",
      "display_name": "Python 3"
    },
    "language_info": {
      "name": "python"
    }
  },
  "cells": [
    {
      "cell_type": "markdown",
      "metadata": {
        "id": "view-in-github",
        "colab_type": "text"
      },
      "source": [
        "<a href=\"https://colab.research.google.com/github/PedroQueiroga9/Exercicios-de-L-gica-e-Programa-o-/blob/main/Aula_Tipos_de_dados.ipynb\" target=\"_parent\"><img src=\"https://colab.research.google.com/assets/colab-badge.svg\" alt=\"Open In Colab\"/></a>"
      ]
    },
    {
      "cell_type": "code",
      "source": [
        "ota1 =  input('Digite sua primeira nota ')\n",
        "nota2 = input ('Digite sua segunda nota')\n",
        "nota3 = input ('Digite sua Terceira nota')\n",
        "soma =  float(nota1) + float(nota2) + float(nota3)\n",
        "media = soma /3 \n",
        "print('Sua media final foi:', media)\n",
        "if media > 7:\n",
        "  print('Parabéns voce foi aprovado!')\n",
        "\n",
        "elif media > 4 < 7:\n",
        "  print('Voce foi pra recuperação')\n",
        "else:\n",
        "  print('Voce foi reprovado4')\n",
        "  "
      ],
      "metadata": {
        "colab": {
          "base_uri": "https://localhost:8080/"
        },
        "id": "Pum5YVLzJf4L",
        "outputId": "97f90205-d840-462e-a52f-45c2a0c51357"
      },
      "execution_count": 34,
      "outputs": [
        {
          "output_type": "stream",
          "name": "stdout",
          "text": [
            "Digite sua primeira nota 5\n",
            "Digite sua segunda nota6\n",
            "Digite sua Terceira nota4\n",
            "Sua media final foi: 5.0\n",
            "Voce foi pra recuperação\n"
          ]
        }
      ]
    }
  ]
}