{
  "nbformat": 4,
  "nbformat_minor": 0,
  "metadata": {
    "colab": {
      "provenance": [],
      "authorship_tag": "ABX9TyOIViEco7DQITX9b5kiQVOq",
      "include_colab_link": true
    },
    "kernelspec": {
      "name": "python3",
      "display_name": "Python 3"
    },
    "language_info": {
      "name": "python"
    }
  },
  "cells": [
    {
      "cell_type": "markdown",
      "metadata": {
        "id": "view-in-github",
        "colab_type": "text"
      },
      "source": [
        "<a href=\"https://colab.research.google.com/github/PedroQueiroga9/Exercicios-De-Programacao/blob/main/Listas_e_La%C3%A7os.ipynb\" target=\"_parent\"><img src=\"https://colab.research.google.com/assets/colab-badge.svg\" alt=\"Open In Colab\"/></a>"
      ]
    },
    {
      "cell_type": "code",
      "execution_count": null,
      "metadata": {
        "id": "A86Pz3GqDK2R"
      },
      "outputs": [],
      "source": [
        "\n",
        "num = int(input(print (\"Digite um numero maior que 1\")))\n",
        "cont = 0\n",
        "while (cont <= num):\n",
        "  if (num > 1):\n",
        "    print(cont)\n",
        "    cont+=1\n",
        "else:\n",
        "  print('Digite um numero maior que 1.')\n",
        "\n"
      ]
    },
    {
      "cell_type": "code",
      "source": [
        "num = int(input(print (\"Digite um numero maior que 1\")))\n",
        "cont = 0\n",
        "listNumerica = []\n",
        "while (cont <= num):\n",
        "  listNumerica.append(cont)\n",
        "  cont +=1\n",
        "print(sum(listNumerica))\n"
      ],
      "metadata": {
        "id": "A0MfVYIaGlTl"
      },
      "execution_count": null,
      "outputs": []
    },
    {
      "cell_type": "code",
      "source": [
        "senha = 'bola123'\n",
        "userPass = input('Digite sua senha: ')\n",
        "cont = 0\n",
        "while(cont < 3):\n",
        "    cont+=1 \n",
        "if(userPass == senha):\n",
        "else: \n",
        "  print('senha incorreta')\n",
        "  userPass = input('tente novamente')\n",
        "if (cont == 3):\n",
        "  print('sua senha foi bloqueada')\n",
        "else:\n",
        "  print('Seja bem vindo ao sistema') \n",
        "  "
      ],
      "metadata": {
        "id": "j8-95Cg6OkHt"
      },
      "execution_count": null,
      "outputs": []
    },
    {
      "cell_type": "code",
      "source": [
        "nome = input('Digite o nome!')\n",
        "if(nome.isdigit()):\n",
        "  print('Entrada incorreta!')\n",
        "else: \n",
        "  print(f'o nome {nome} foi inserido com sucesso')"
      ],
      "metadata": {
        "id": "5kn8QIi8ZUJ2"
      },
      "execution_count": null,
      "outputs": []
    },
    {
      "cell_type": "code",
      "source": [
        "texto = input('digita ai')\n",
        "texto.isalpha"
      ],
      "metadata": {
        "id": "bRc_kj3uaemI"
      },
      "execution_count": null,
      "outputs": []
    },
    {
      "cell_type": "code",
      "source": [
        "animais = []\n",
        "animal = input('Digite um nome de animal: ')\n",
        "while (animal.isdigit())== False:\n",
        "  animais.append(animal)\n",
        "  animal = input('Digite um nome de animal:')\n"
      ],
      "metadata": {
        "id": "QXaDEfRjbTRX"
      },
      "execution_count": null,
      "outputs": []
    }
  ]
}